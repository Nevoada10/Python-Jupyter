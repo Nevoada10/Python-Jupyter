{
 "cells": [
  {
   "cell_type": "code",
   "execution_count": 1,
   "id": "ab687075-2870-41cd-a31e-25095e39cd48",
   "metadata": {},
   "outputs": [
    {
     "name": "stdout",
     "output_type": "stream",
     "text": [
      "(country(name='France', capital='Paris', continent='Europe'), country(name='Senegal', capital='Dakar', continent='Africa'), country(name='Japan', capital='Tokyo', continent='Asia'))\n"
     ]
    }
   ],
   "source": [
    "# NAMEDTUPLES\n",
    "\n",
    "from collections import namedtuple\n",
    "\n",
    "# Checkpoint 1 code goes here.\n",
    "country = namedtuple(\"country\",[\"name\",\"capital\",\"continent\"])\n",
    "\n",
    "# Checkpoint 2 code goes here.\n",
    "france = country(\"France\", \"Paris\", \"Europe\")\n",
    "senegal = country(\"Senegal\",\"Dakar\", \"Africa\")\n",
    "japan = country(\"Japan\", \"Tokyo\", \"Asia\")\n",
    "\n",
    "# Checkpoint 3 code goes here.\n",
    "countries = (france, senegal, japan)\n",
    "\n",
    "print(countries)"
   ]
  },
  {
   "cell_type": "code",
   "execution_count": 2,
   "id": "ed4a504c-2a99-4f54-a560-3d16b7e1bfb3",
   "metadata": {},
   "outputs": [
    {
     "name": "stdout",
     "output_type": "stream",
     "text": [
      "25\n"
     ]
    }
   ],
   "source": [
    "# LAMBDA FUNCTIONS\n",
    "\n",
    "\"\"\"\n",
    "def squared(x):\n",
    "  return x * x\n",
    "\n",
    "def cubed(x):\n",
    "  return x*x*x\n",
    "\"\"\"\n",
    "# Remove this statement for Checkpoint 1.\n",
    "def odd_or_even(n, even_function, odd_function):\n",
    "    if n % 2 == 0: # Even numbers\n",
    "        return even_function(n)\n",
    "    else: # Odd numbers\n",
    "        return odd_function(n)\n",
    "\n",
    "# Checkpoint 2 code goes here.\n",
    "square = lambda x: x**2\n",
    "cube = lambda x: x**3\n",
    "\n",
    "# Checkpoint 3 code goes here.\n",
    "test = odd_or_even(5, cube, square)\n",
    "\n",
    "print(test) \n",
    "# Uncomment the print function to see the results of Checkpoint 3.\n",
    "\n",
    "# 5 is odd, so it should be squared. 5**2 = 25."
   ]
  },
  {
   "cell_type": "code",
   "execution_count": 21,
   "id": "5b8d4827-d6f2-4786-8075-ecc657d1d7ae",
   "metadata": {},
   "outputs": [
    {
     "name": "stdout",
     "output_type": "stream",
     "text": [
      "(16, 2, 22, 10, 16, 2, 26, 12, 20, 16, 6, 2, 12, 20)\n",
      "(48, 6, 57, 66, 30, 69, 48, 6, 81, 87, 57, 78, 36, 60, 48, 87, 18, 6, 36, 60)\n",
      "328\n"
     ]
    }
   ],
   "source": [
    "# FILTER # MAP # REDUCE\n",
    "\n",
    "from functools import reduce\n",
    "\n",
    "nums = (16, 2, 19, 22, 10, 23, 16, 2, 27, 29, 19, 26, 12, 20, 16, 29, 6, 2, 12, 20)\n",
    "\n",
    "# Checkpoint 1 code goes here.\n",
    "filtered_numbers = filter(lambda x: x % 2 == 0, nums)\n",
    "\n",
    "print(tuple(filtered_numbers))\n",
    "\n",
    "# Checkpoint 2 code goes here.\n",
    "mapped_numbers = map(lambda x: 3*x, nums)\n",
    "\n",
    "print(tuple(mapped_numbers))\n",
    "# Checkpoint 3 code goes here.\n",
    "\n",
    "sum = reduce(lambda x,y: x + y, nums)\n",
    "\n",
    "print(sum)"
   ]
  },
  {
   "cell_type": "code",
   "execution_count": 22,
   "id": "8fdd8ee9-57b6-435d-a2d2-c67353c1f43d",
   "metadata": {},
   "outputs": [
    {
     "name": "stdout",
     "output_type": "stream",
     "text": [
      "(24, 32, 26, 38, 42, 30, 44, 40, 22)\n",
      "(36, 27, 9, 63, 45)\n"
     ]
    }
   ],
   "source": [
    "# FILTERING AND MAPPING.\n",
    "\n",
    "nums = (2, 12, 5, 8, 9, 3, 16, 7, 13, 19, 21, 1, 15, 4, 22, 20, 11)\n",
    "\n",
    "# Checkpoint 1 code goes here.\n",
    "\n",
    "greater_than_10_doubled = map(lambda x: 2*x ,filter(lambda x: x > 10 ,nums)) \n",
    "\n",
    "print(tuple(greater_than_10_doubled))\n",
    "# Checkpoint 2 code goes here.\n",
    "\n",
    "functional_way = map(lambda i: 3*i,filter(lambda i: i % 3 == 0 ,nums))\n",
    "\n",
    "print(tuple(functional_way))"
   ]
  },
  {
   "cell_type": "code",
   "execution_count": 24,
   "id": "ba3049ba-e6b7-4f9e-9f14-08d22cdb62d6",
   "metadata": {
    "scrolled": true
   },
   "outputs": [
    {
     "name": "stdout",
     "output_type": "stream",
     "text": [
      "menu_item(name='Porter House Steak', dish_type='Entree', price=131.95)\n",
      "menu_item(name='Mixed Green Salad', dish_type='Salad', price=10.95)\n"
     ]
    }
   ],
   "source": [
    "# FILTERING AND REDUCE.\n",
    "\n",
    "from collections import namedtuple\n",
    "from functools import reduce\n",
    "\n",
    "# Prices are in USD\n",
    "menu_item = namedtuple(\"menu_item\", [\"name\", \"dish_type\", \"price\"])\n",
    "\n",
    "jsp = menu_item(\"Jumbo Shrimp Platter\", \"Appetizer\", 29.95)\n",
    "lc = menu_item(\"Lobster Cake\", \"Appetizer\", 30.95)\n",
    "scb = menu_item(\"Sizzling Canadian Bacon\", \"Appetizer\", 9.95)\n",
    "ccc = menu_item(\"Codecademy Crab Cake\", \"Appetizer\", 32.95)\n",
    "cs = menu_item(\"Caeser Salad\", \"Salad\", 14.95)\n",
    "mgs = menu_item(\"Mixed Green Salad\", \"Salad\", 10.95)\n",
    "cp = menu_item(\"Codecademy Potatoes\", \"Side\", 34.95)\n",
    "mp = menu_item(\"Mashed Potatoes\", \"Side\", 14.95)\n",
    "a = menu_item(\"Asparagus\", \"Side\", 15.95)\n",
    "rs = menu_item(\"Ribeye Steak\", \"Entree\", 75.95)\n",
    "phs = menu_item(\"Porter House Steak\", \"Entree\", 131.95)\n",
    "grs = menu_item(\"Grilled Salmon\", \"Entree\", 36.95)\n",
    "\n",
    "menu = (jsp, lc, scb, ccc, cs, mgs, cp, mp, a, rs, phs, grs)\n",
    "\n",
    "# Checkpoint 1: Find the least expensive entree\n",
    "entree = reduce(lambda x, y: x if x.price > y.price else y,filter(lambda x: x.dish_type == \"Entree\", menu))\n",
    "print(entree)\n",
    "\n",
    "# Code for Checkpoint 2 goes here.# Checkpoint 2: Find the least expensive side or salad\n",
    "side_or_salad = filter(lambda x: x.dish_type in [\"Side\", \"Salad\"], menu)\n",
    "least_expensive = reduce(lambda x, y: x if x.price < y.price else y, side_or_salad)\n",
    "print(least_expensive)\n"
   ]
  },
  {
   "cell_type": "code",
   "execution_count": null,
   "id": "492a9b9a-f83c-4c56-b6d7-cb10fc33ba12",
   "metadata": {},
   "outputs": [],
   "source": [
    "# 0 1 2 3 4 5 6 7 8 9 10 # NATURAIS\n",
    "# -3 -2 -1 0 1 2 3 4 5 6 ... # INTEIROS\n",
    "1\n",
    "numero_a = int(input(\"Digite o primeiro número: \"))\n",
    "numero_b = int(input(\"Digite o segundo número: \"))\n",
    "\n",
    "print(\"O resultado é:\",numero_a + numero_b)\n",
    "\n",
    "\n",
    "numero_a = int(input(\"Digite o primeiro número: \"))\n",
    "numero_b = int(input(\"Digite o segundo número: \"))\n",
    "\n",
    "print(\"O resultado é:\",numero_a - numero_b)"
   ]
  },
  {
   "cell_type": "code",
   "execution_count": null,
   "id": "f4ff4b63-e337-4966-8b9e-e2e640bdd475",
   "metadata": {},
   "outputs": [],
   "source": []
  }
 ],
 "metadata": {
  "kernelspec": {
   "display_name": "Python 3 (ipykernel)",
   "language": "python",
   "name": "python3"
  },
  "language_info": {
   "codemirror_mode": {
    "name": "ipython",
    "version": 3
   },
   "file_extension": ".py",
   "mimetype": "text/x-python",
   "name": "python",
   "nbconvert_exporter": "python",
   "pygments_lexer": "ipython3",
   "version": "3.11.5"
  }
 },
 "nbformat": 4,
 "nbformat_minor": 5
}
